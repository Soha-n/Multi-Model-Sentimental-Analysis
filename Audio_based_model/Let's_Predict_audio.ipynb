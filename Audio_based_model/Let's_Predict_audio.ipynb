{
 "cells": [
  {
   "cell_type": "code",
   "execution_count": 1,
   "id": "356cbede-dd99-4d01-ab9b-751b71e946ad",
   "metadata": {},
   "outputs": [
    {
     "name": "stderr",
     "output_type": "stream",
     "text": [
      "C:\\Users\\ssttg\\anaconda3\\Lib\\site-packages\\pydub\\utils.py:170: RuntimeWarning: Couldn't find ffmpeg or avconv - defaulting to ffmpeg, but may not work\n",
      "  warn(\"Couldn't find ffmpeg or avconv - defaulting to ffmpeg, but may not work\", RuntimeWarning)\n"
     ]
    }
   ],
   "source": [
    "import pickle\n",
    "from keras.models import load_model\n",
    "from pydub import AudioSegment\n",
    "import numpy as np\n",
    "#from vote_classifier import AudioPredictor\n",
    "#from vote_classifier import VoteClassifier\n",
    "\n",
    "import librosa"
   ]
  },
  {
   "cell_type": "code",
   "execution_count": null,
   "id": "57e6af2a-9b45-4cff-bfd5-92154850eb6e",
   "metadata": {},
   "outputs": [],
   "source": []
  },
  {
   "cell_type": "code",
   "execution_count": 7,
   "id": "c4a71e84-5d8f-4108-b898-1f5422ae4dbe",
   "metadata": {},
   "outputs": [
    {
     "name": "stderr",
     "output_type": "stream",
     "text": [
      "C:\\Users\\ssttg\\anaconda3\\Lib\\site-packages\\keras\\src\\saving\\saving_lib.py:719: UserWarning: Skipping variable loading for optimizer 'rmsprop', because it has 10 variables whereas the saved optimizer has 2 variables. \n",
      "  saveable.load_own_variables(weights_store.get(inner_path))\n"
     ]
    }
   ],
   "source": [
    "with open('audio_classifier_model.pkl', 'rb') as file:\n",
    "    audio_model = pickle.load(file)"
   ]
  },
  {
   "cell_type": "code",
   "execution_count": 9,
   "id": "b05887d9-b9b7-4d20-bfed-f12d381ee2b4",
   "metadata": {},
   "outputs": [
    {
     "name": "stdout",
     "output_type": "stream",
     "text": [
      "\u001b[1m1/1\u001b[0m \u001b[32m━━━━━━━━━━━━━━━━━━━━\u001b[0m\u001b[37m\u001b[0m \u001b[1m0s\u001b[0m 354ms/step\n"
     ]
    },
    {
     "data": {
      "text/plain": [
       "'3'"
      ]
     },
     "execution_count": 9,
     "metadata": {},
     "output_type": "execute_result"
    }
   ],
   "source": [
    "audio_model.audio_classify('./TESS Toronto emotional speech set data/OAF_angry/OAF_bath_angry.wav')"
   ]
  },
  {
   "cell_type": "code",
   "execution_count": null,
   "id": "6165666d-54ca-4559-a16f-b5222d0617d1",
   "metadata": {},
   "outputs": [],
   "source": []
  },
  {
   "cell_type": "code",
   "execution_count": null,
   "id": "22f27906-12ca-4af5-bca2-6d2d0fa0ef73",
   "metadata": {},
   "outputs": [],
   "source": []
  },
  {
   "cell_type": "code",
   "execution_count": 5,
   "id": "8e710519-1c85-439d-b6fa-b2f2012138f6",
   "metadata": {},
   "outputs": [
    {
     "name": "stderr",
     "output_type": "stream",
     "text": [
      "WARNING:absl:Compiled the loaded model, but the compiled metrics have yet to be built. `model.compile_metrics` will be empty until you train or evaluate the model.\n"
     ]
    },
    {
     "name": "stdout",
     "output_type": "stream",
     "text": [
      "\u001b[1m1/1\u001b[0m \u001b[32m━━━━━━━━━━━━━━━━━━━━\u001b[0m\u001b[37m\u001b[0m \u001b[1m0s\u001b[0m 278ms/step\n",
      "Predicted Emotion:  Anger\n"
     ]
    }
   ],
   "source": [
    "# Step 2: Define the emotion labels (should match what your model was trained on)\n",
    "emotion_labels = [\"Happiness\", \"Neutral\", \"Sadness\", \"Anger\", \"Fear\", \"Disgust\"]\n",
    "\n",
    "# Step 3: Create an instance of the AudioPredictor class\n",
    "predictor = AudioPredictor('my_lstm_model_88.h5', emotion_labels)\n",
    "\n",
    "# Step 4: Specify the path to your audio file\n",
    "audio_file_path = './TESS Toronto emotional speech set data/OAF_angry/OAF_bath_angry.wav'  # Replace with your actual audio file path\n",
    "\n",
    "# Step 5: Call the `predict()` method to get the emotion prediction\n",
    "predicted_emotion = predictor.predict(audio_file_path)\n",
    "\n",
    "# Step 6: Print the result\n",
    "print(\"Predicted Emotion: \", predicted_emotion)"
   ]
  },
  {
   "cell_type": "code",
   "execution_count": null,
   "id": "e0797044-7702-4ed5-93a9-5da21d3b0711",
   "metadata": {},
   "outputs": [],
   "source": []
  },
  {
   "cell_type": "code",
   "execution_count": 7,
   "id": "9dba5208-f478-4797-9628-06c587d55876",
   "metadata": {},
   "outputs": [
    {
     "name": "stdout",
     "output_type": "stream",
     "text": [
      "\u001b[1m1/1\u001b[0m \u001b[32m━━━━━━━━━━━━━━━━━━━━\u001b[0m\u001b[37m\u001b[0m \u001b[1m0s\u001b[0m 308ms/step\n",
      "Predicted emotion (index 3): Anger\n"
     ]
    }
   ],
   "source": [
    "# Step 2: Define the emotion labels (should match what your model was trained on)\n",
    "emotion_labels = [\"Happiness\", \"Neutral\", \"Sadness\", \"Anger\", \"Fear\", \"Disgust\"]\n",
    "\n",
    "# Step 3: Create an instance of the AudioPredictor class\n",
    "predictor = AudioPredictor(audio_model)\n",
    "\n",
    "# Step 4: Specify the path to your audio file\n",
    "audio_file_path = './TESS Toronto emotional speech set data/OAF_angry/OAF_bath_angry.wav'  # Replace with your actual audio file path\n",
    "\n",
    "# Step 5: Call the `predict()` method to get the emotion prediction\n",
    "predicted_emotion = predictor.audio_classify(audio_file_path)\n",
    "\n",
    "predicted_index = int(predicted_emotion)\n",
    "\n",
    "# Access the corresponding emotion label using the index\n",
    "if 0 <= predicted_index < len(emotion_labels):\n",
    "    corresponding_emotion = emotion_labels[predicted_index]\n",
    "    print(f\"Predicted emotion (index {predicted_index}): {corresponding_emotion}\")\n",
    "else:\n",
    "    print(f\"Index {predicted_index} is out of range for emotion_labels.\")\n"
   ]
  },
  {
   "cell_type": "code",
   "execution_count": null,
   "id": "a11b1551-e4f6-4ce3-91fc-725099c4f71f",
   "metadata": {},
   "outputs": [],
   "source": []
  },
  {
   "cell_type": "code",
   "execution_count": 5,
   "id": "45ee815d-1ae9-4b36-8f69-b993e25ff017",
   "metadata": {},
   "outputs": [],
   "source": [
    "class AudioPredictor:\n",
    "    def __init__(self, model):\n",
    "        # Load the model directly\n",
    "        self.model = model\n",
    "\n",
    "    def preprocess_audio(self, audio_path):\n",
    "        raw_audio = AudioSegment.from_file(audio_path)\n",
    "        samples = np.array(raw_audio.get_array_of_samples(), dtype='float32')\n",
    "        \n",
    "        # Trim silence from the beginning and end\n",
    "        trimmed, _ = librosa.effects.trim(samples, top_db=25)\n",
    "\n",
    "        # Pad to a fixed length if necessary (e.g., 180,000 samples)\n",
    "        padded = np.pad(trimmed, (0, max(0, 180000 - len(trimmed))), 'constant')\n",
    "        sr = raw_audio.frame_rate  # Get the sample rate\n",
    "\n",
    "        return padded, sr\n",
    "\n",
    "    def extract_features(self, audio, sr):\n",
    "        # Extract features similar to training\n",
    "        zcr = librosa.feature.zero_crossing_rate(audio)\n",
    "        rms = librosa.feature.rms(y=audio)\n",
    "        mfccs = librosa.feature.mfcc(y=audio, sr=sr, n_mfcc=13)\n",
    "\n",
    "        # Concatenate features to create the input array\n",
    "        features = np.concatenate((\n",
    "            np.swapaxes(zcr, 0, 1), \n",
    "            np.swapaxes(rms, 0, 1), \n",
    "            np.swapaxes(mfccs, 0, 1)), \n",
    "            axis=1\n",
    "        )\n",
    "\n",
    "        # Reshape for LSTM input (1 sample, timesteps, features)\n",
    "        features = features.reshape(1, features.shape[0], features.shape[1])  # Add batch dimension\n",
    "        return features\n",
    "\n",
    "    def audio_classify(self, audio_path):\n",
    "        # Preprocess the audio file and extract features\n",
    "        processed_audio, sr = self.preprocess_audio(audio_path)\n",
    "        features = self.extract_features(processed_audio, sr)\n",
    "\n",
    "        # Make predictions using the loaded model\n",
    "        predictions = self.model.predict(features)\n",
    "\n",
    "        # Get the predicted class\n",
    "        predicted_class = np.argmax(predictions, axis=1)\n",
    "        return str(predicted_class[0])\n"
   ]
  },
  {
   "cell_type": "code",
   "execution_count": null,
   "id": "add40d60-253f-498f-ac14-d36864af0eec",
   "metadata": {},
   "outputs": [],
   "source": []
  },
  {
   "cell_type": "code",
   "execution_count": null,
   "id": "917de33d-2dd8-42b5-a6b7-8999dbd3dc1c",
   "metadata": {},
   "outputs": [],
   "source": []
  },
  {
   "cell_type": "code",
   "execution_count": null,
   "id": "5f33705c-db82-40a0-ad6c-9ab4d35b1074",
   "metadata": {},
   "outputs": [],
   "source": []
  },
  {
   "cell_type": "code",
   "execution_count": null,
   "id": "383284df-544e-48cd-a0ba-6e8b76ed59cc",
   "metadata": {},
   "outputs": [],
   "source": []
  },
  {
   "cell_type": "code",
   "execution_count": 9,
   "id": "b151f90a-8809-4853-b64c-7ab1db666b48",
   "metadata": {},
   "outputs": [],
   "source": [
    "with open('audio_classifier_model.pkl', 'wb') as file:\n",
    "    pickle.dump(predictor, file)\n"
   ]
  },
  {
   "cell_type": "code",
   "execution_count": 3,
   "id": "43865d56-39cf-41b8-840d-f2bca318c8b5",
   "metadata": {},
   "outputs": [
    {
     "name": "stderr",
     "output_type": "stream",
     "text": [
      "WARNING:absl:Compiled the loaded model, but the compiled metrics have yet to be built. `model.compile_metrics` will be empty until you train or evaluate the model.\n"
     ]
    }
   ],
   "source": [
    "# Load the audio model (e.g., an LSTM model for audio)\n",
    "audio_model = load_model('my_lstm_model_88.h5')"
   ]
  },
  {
   "cell_type": "code",
   "execution_count": 26,
   "id": "e19e1180-5314-43d3-a153-2635e0d2a34e",
   "metadata": {},
   "outputs": [],
   "source": [
    "# Function to preprocess the audio\n",
    "def preprocess_audio(path):\n",
    "    raw_audio = AudioSegment.from_file(path)\n",
    "    samples = np.array(raw_audio.get_array_of_samples(), dtype='float32')\n",
    "    \n",
    "    # Trim silence from the beginning and end\n",
    "    trimmed, _ = librosa.effects.trim(samples, top_db=25)\n",
    "\n",
    "    # Pad to a fixed length if necessary\n",
    "    padded = np.pad(trimmed, (0, max(0, 180000 - len(trimmed))), 'constant')\n",
    "    sr = raw_audio.frame_rate  # Get sample rate\n",
    "\n",
    "    return padded, sr\n"
   ]
  },
  {
   "cell_type": "code",
   "execution_count": 28,
   "id": "349c616c-b1bd-43ad-bd24-cdac25978904",
   "metadata": {},
   "outputs": [],
   "source": [
    "# Function to make a prediction\n",
    "def predict_audio(model, audio_path):\n",
    "    # Preprocess the audio file\n",
    "    processed_audio, sr = preprocess_audio(audio_path)\n",
    "\n",
    "    # Extract features similar to training\n",
    "    zcr = librosa.feature.zero_crossing_rate(processed_audio)\n",
    "    rms = librosa.feature.rms(y=processed_audio)\n",
    "    mfccs = librosa.feature.mfcc(y=processed_audio, sr=sr, n_mfcc=13)\n",
    "\n",
    "    # Concatenate features to create the input array\n",
    "    features = np.concatenate((\n",
    "        np.swapaxes(zcr, 0, 1), \n",
    "        np.swapaxes(rms, 0, 1), \n",
    "        np.swapaxes(mfccs, 0, 1)), \n",
    "        axis=1\n",
    "    )\n",
    "\n",
    "    # Reshape for LSTM input (1 sample, timesteps, features)\n",
    "    features = features.reshape(1, features.shape[0], features.shape[1])  # Add batch dimension\n",
    "\n",
    "    # Make predictions\n",
    "    predictions = model.predict(features)\n",
    "\n",
    "    # Get the predicted class\n",
    "    predicted_class = np.argmax(predictions, axis=1)\n",
    "\n",
    "    return predicted_class\n"
   ]
  },
  {
   "cell_type": "code",
   "execution_count": 40,
   "id": "3c324100-5b44-4b34-97da-b300092a18c2",
   "metadata": {},
   "outputs": [
    {
     "name": "stdout",
     "output_type": "stream",
     "text": [
      "\u001b[1m1/1\u001b[0m \u001b[32m━━━━━━━━━━━━━━━━━━━━\u001b[0m\u001b[37m\u001b[0m \u001b[1m0s\u001b[0m 319ms/step\n",
      "Predicted Emotion:  Anger\n"
     ]
    }
   ],
   "source": [
    "# Example usage\n",
    "audio_file_path = './TESS Toronto emotional speech set data/OAF_angry/OAF_bath_angry.wav'  # Replace with your audio file path\n",
    "predicted_emotion = predict_audio(audio_model, audio_file_path)\n",
    "\n",
    "# Assuming you have a mapping of class indices to emotion labels\n",
    "emotion_labels = [\"Happiness\", \"Neutral\", \"Sadness\", \"Anger\", \"Fear\", \"Disgust\"]\n",
    "\n",
    "predicted_emotion_label = emotion_labels[predicted_emotion[0]]\n",
    "\n",
    "print(\"Predicted Emotion: \", predicted_emotion_label)"
   ]
  },
  {
   "cell_type": "code",
   "execution_count": null,
   "id": "99e4bf26-b065-4a85-ac88-e030d9d53b6c",
   "metadata": {},
   "outputs": [],
   "source": []
  },
  {
   "cell_type": "code",
   "execution_count": 1,
   "id": "013ac935-5136-48f3-80d4-ceaac6281bde",
   "metadata": {},
   "outputs": [
    {
     "name": "stderr",
     "output_type": "stream",
     "text": [
      "C:\\Users\\ssttg\\anaconda3\\Lib\\site-packages\\pydub\\utils.py:170: RuntimeWarning: Couldn't find ffmpeg or avconv - defaulting to ffmpeg, but may not work\n",
      "  warn(\"Couldn't find ffmpeg or avconv - defaulting to ffmpeg, but may not work\", RuntimeWarning)\n",
      "WARNING:absl:Compiled the loaded model, but the compiled metrics have yet to be built. `model.compile_metrics` will be empty until you train or evaluate the model.\n"
     ]
    },
    {
     "name": "stdout",
     "output_type": "stream",
     "text": [
      "\u001b[1m1/1\u001b[0m \u001b[32m━━━━━━━━━━━━━━━━━━━━\u001b[0m\u001b[37m\u001b[0m \u001b[1m0s\u001b[0m 310ms/step\n",
      "Predicted Emotion:  Anger\n"
     ]
    }
   ],
   "source": [
    "import numpy as np\n",
    "import librosa\n",
    "from pydub import AudioSegment\n",
    "from keras.models import load_model\n",
    "\n",
    "# Load the audio model (e.g., an LSTM model for audio)\n",
    "audio_model = load_model('my_lstm_model_88.h5')\n",
    "\n",
    "# Function to preprocess the audio\n",
    "def preprocess_audio(path):\n",
    "    raw_audio = AudioSegment.from_file(path)\n",
    "    samples = np.array(raw_audio.get_array_of_samples(), dtype='float32')\n",
    "    \n",
    "    # Trim silence from the beginning and end\n",
    "    trimmed, _ = librosa.effects.trim(samples, top_db=25)\n",
    "\n",
    "    # Pad to a fixed length if necessary\n",
    "    padded = np.pad(trimmed, (0, max(0, 180000 - len(trimmed))), 'constant')\n",
    "    sr = raw_audio.frame_rate  # Get sample rate\n",
    "\n",
    "    return padded, sr\n",
    "\n",
    "# Function to make a prediction\n",
    "def predict_audio(model, audio_path):\n",
    "    # Preprocess the audio file\n",
    "    processed_audio, sr = preprocess_audio(audio_path)\n",
    "\n",
    "    # Extract features similar to training\n",
    "    zcr = librosa.feature.zero_crossing_rate(processed_audio)\n",
    "    rms = librosa.feature.rms(y=processed_audio)\n",
    "    mfccs = librosa.feature.mfcc(y=processed_audio, sr=sr, n_mfcc=13)\n",
    "\n",
    "    # Concatenate features to create the input array\n",
    "    features = np.concatenate((\n",
    "        np.swapaxes(zcr, 0, 1), \n",
    "        np.swapaxes(rms, 0, 1), \n",
    "        np.swapaxes(mfccs, 0, 1)), \n",
    "        axis=1\n",
    "    )\n",
    "\n",
    "    # Reshape for LSTM input (1 sample, timesteps, features)\n",
    "    features = features.reshape(1, features.shape[0], features.shape[1])  # Add batch dimension\n",
    "\n",
    "    # Make predictions\n",
    "    predictions = model.predict(features)\n",
    "\n",
    "    # Get the predicted class\n",
    "    predicted_class = np.argmax(predictions, axis=1)\n",
    "\n",
    "    return predicted_class\n",
    "\n",
    "# Example usage\n",
    "audio_file_path = './TESS Toronto emotional speech set data/OAF_angry/OAF_bath_angry.wav'  # Replace with your audio file path\n",
    "predicted_emotion = predict_audio(audio_model, audio_file_path)\n",
    "\n",
    "# Assuming you have a mapping of class indices to emotion labels\n",
    "emotion_labels = [\"Happiness\", \"Neutral\", \"Sadness\", \"Anger\", \"Fear\", \"Disgust\"]\n",
    "\n",
    "predicted_emotion_label = emotion_labels[predicted_emotion[0]]\n",
    "\n",
    "print(\"Predicted Emotion: \", predicted_emotion_label)\n"
   ]
  },
  {
   "cell_type": "code",
   "execution_count": null,
   "id": "f8a268f6-e7e0-4c5d-b021-3d40160d85af",
   "metadata": {},
   "outputs": [],
   "source": []
  }
 ],
 "metadata": {
  "kernelspec": {
   "display_name": "Python 3 (ipykernel)",
   "language": "python",
   "name": "python3"
  },
  "language_info": {
   "codemirror_mode": {
    "name": "ipython",
    "version": 3
   },
   "file_extension": ".py",
   "mimetype": "text/x-python",
   "name": "python",
   "nbconvert_exporter": "python",
   "pygments_lexer": "ipython3",
   "version": "3.12.4"
  }
 },
 "nbformat": 4,
 "nbformat_minor": 5
}
