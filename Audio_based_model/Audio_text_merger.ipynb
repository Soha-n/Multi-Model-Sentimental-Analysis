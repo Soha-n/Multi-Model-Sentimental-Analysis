{
 "cells": [
  {
   "cell_type": "code",
   "execution_count": 3,
   "id": "c155f747-939f-439e-ac68-179b4dcfab9c",
   "metadata": {},
   "outputs": [
    {
     "name": "stderr",
     "output_type": "stream",
     "text": [
      "C:\\Users\\ssttg\\anaconda3\\Lib\\site-packages\\pydub\\utils.py:170: RuntimeWarning: Couldn't find ffmpeg or avconv - defaulting to ffmpeg, but may not work\n",
      "  warn(\"Couldn't find ffmpeg or avconv - defaulting to ffmpeg, but may not work\", RuntimeWarning)\n"
     ]
    }
   ],
   "source": [
    "import pandas as pd\n",
    "import numpy as np\n",
    "\n",
    "import speech_recognition as sr\n",
    "from pydub import AudioSegment\n",
    "from collections import Counter\n",
    "import warnings"
   ]
  },
  {
   "cell_type": "code",
   "execution_count": 10,
   "id": "5cb82133-c8fb-48c3-a76e-d0108f8c59d1",
   "metadata": {},
   "outputs": [],
   "source": [
    "import pickle\n",
    "from Audioandtext import VoteClassifier\n",
    "from Audioandtext import AudioPredictor"
   ]
  },
  {
   "cell_type": "code",
   "execution_count": 11,
   "id": "dea197da-5af1-4e48-9251-65bf46e8ad7f",
   "metadata": {},
   "outputs": [
    {
     "name": "stderr",
     "output_type": "stream",
     "text": [
      "C:\\Users\\ssttg\\anaconda3\\Lib\\site-packages\\keras\\src\\saving\\saving_lib.py:719: UserWarning: Skipping variable loading for optimizer 'adam', because it has 24 variables whereas the saved optimizer has 2 variables. \n",
      "  saveable.load_own_variables(weights_store.get(inner_path))\n",
      "C:\\Users\\ssttg\\anaconda3\\Lib\\site-packages\\keras\\src\\saving\\saving_lib.py:719: UserWarning: Skipping variable loading for optimizer 'rmsprop', because it has 10 variables whereas the saved optimizer has 2 variables. \n",
      "  saveable.load_own_variables(weights_store.get(inner_path))\n"
     ]
    }
   ],
   "source": [
    "with open('text_classifier_model.pkl', 'rb') as f:\n",
    "    text_classifier = pickle.load(f)\n",
    "\n",
    "with open('audio_classifier_model.pkl', 'rb') as f:\n",
    "    audio_classifier = pickle.load(f)"
   ]
  },
  {
   "cell_type": "code",
   "execution_count": 14,
   "id": "e6600497-c04b-4cb3-9ebc-d6c7cc8bab27",
   "metadata": {},
   "outputs": [],
   "source": [
    "audio_path = \"./TESS Toronto emotional speech set data/OAF_angry/OAF_burn_angry.wav\""
   ]
  },
  {
   "cell_type": "code",
   "execution_count": 16,
   "id": "d058e8c0-7d19-49b8-870f-e7ad43d89980",
   "metadata": {},
   "outputs": [],
   "source": [
    "emotion_labels_audio = [\"Happiness\", \"Neutral\", \"Sadness\", \"Anger\", \"Fear\", \"Disgust\"]\n",
    "emotion_labels_text = [\"Anger\", \"Disgust\", \"Fear\", \"Happiness\", \"Sadness\", \"Surprise\", \"Neutral\"]\n"
   ]
  },
  {
   "cell_type": "code",
   "execution_count": 18,
   "id": "026eadeb-ff2b-4a64-a789-0f6a166583ea",
   "metadata": {},
   "outputs": [],
   "source": [
    "def extract_text_from_audio(audio_file):\n",
    "    recognizer = sr.Recognizer()\n",
    "    with sr.AudioFile(audio_file) as source:\n",
    "        audio_data = recognizer.record(source)\n",
    "    text = recognizer.recognize_google(audio_data)\n",
    "    return text\n"
   ]
  },
  {
   "cell_type": "code",
   "execution_count": 20,
   "id": "2f5412ea-10fb-4104-872e-2ff019bce1e8",
   "metadata": {},
   "outputs": [
    {
     "name": "stdout",
     "output_type": "stream",
     "text": [
      "\u001b[1m1/1\u001b[0m \u001b[32m━━━━━━━━━━━━━━━━━━━━\u001b[0m\u001b[37m\u001b[0m \u001b[1m0s\u001b[0m 317ms/step\n"
     ]
    }
   ],
   "source": [
    "audio_sentiment = audio_classifier.audio_classify(audio_path)"
   ]
  },
  {
   "cell_type": "code",
   "execution_count": 21,
   "id": "f3febf7b-691f-4858-9de9-e03588c82eb4",
   "metadata": {},
   "outputs": [
    {
     "data": {
      "text/plain": [
       "'3'"
      ]
     },
     "execution_count": 21,
     "metadata": {},
     "output_type": "execute_result"
    }
   ],
   "source": [
    "audio_sentiment"
   ]
  },
  {
   "cell_type": "code",
   "execution_count": 22,
   "id": "ec219ab6-b40d-48cf-81a7-ba65e19fd61f",
   "metadata": {},
   "outputs": [
    {
     "name": "stdout",
     "output_type": "stream",
     "text": [
      "\u001b[1m1/1\u001b[0m \u001b[32m━━━━━━━━━━━━━━━━━━━━\u001b[0m\u001b[37m\u001b[0m \u001b[1m1s\u001b[0m 1s/step\n"
     ]
    }
   ],
   "source": [
    "text = extract_text_from_audio(audio_path)\n",
    "pred = text_classifier.text_classify(text)"
   ]
  },
  {
   "cell_type": "code",
   "execution_count": 23,
   "id": "13069726-ce13-4135-8cea-f6de0c77c0ee",
   "metadata": {},
   "outputs": [
    {
     "data": {
      "text/plain": [
       "'6'"
      ]
     },
     "execution_count": 23,
     "metadata": {},
     "output_type": "execute_result"
    }
   ],
   "source": [
    "pred"
   ]
  },
  {
   "cell_type": "code",
   "execution_count": 24,
   "id": "7ca6b0b5-effb-4819-b2b3-1773bc4e9bd8",
   "metadata": {},
   "outputs": [
    {
     "name": "stdout",
     "output_type": "stream",
     "text": [
      "Anger\n",
      "Neutral\n"
     ]
    }
   ],
   "source": [
    "emotion_labels_audio = [\"Happiness\", \"Neutral\", \"Sadness\", \"Anger\", \"Fear\", \"Disgust\"]\n",
    "emotion_labels_text = [\"Anger\", \"Disgust\", \"Fear\", \"Happiness\", \"Sadness\", \"Surprise\", \"Neutral\"]\n",
    "\n",
    "audio_emotion = emotion_labels_audio[int(audio_sentiment)]\n",
    "text_emotion = emotion_labels_text[int(pred)]\n",
    "\n",
    "print(audio_emotion)\n",
    "print(text_emotion)"
   ]
  },
  {
   "cell_type": "code",
   "execution_count": null,
   "id": "fae8ac35-2bf9-4b7f-8e80-c0b3fe029b80",
   "metadata": {},
   "outputs": [],
   "source": []
  },
  {
   "cell_type": "code",
   "execution_count": null,
   "id": "7f0af461-9960-45be-b7fe-e43d3acc28f6",
   "metadata": {},
   "outputs": [],
   "source": []
  },
  {
   "cell_type": "code",
   "execution_count": null,
   "id": "8f029b09-50ce-47db-8a1f-c92225020765",
   "metadata": {},
   "outputs": [],
   "source": []
  },
  {
   "cell_type": "code",
   "execution_count": null,
   "id": "ee809d62-d494-4bf8-bf09-bb3610e71d35",
   "metadata": {},
   "outputs": [],
   "source": [
    "import pandas as pd\n",
    "import numpy as np\n",
    "import speech_recognition as sr\n",
    "import pickle\n",
    "from collections import Counter\n",
    "\n",
    "# Load models\n",
    "with open('text_classifier_model.pkl', 'rb') as f:\n",
    "    text_classifier = pickle.load(f)\n",
    "\n",
    "with open('audio_classifier_model.pkl', 'rb') as f:\n",
    "    audio_classifier = pickle.load(f)\n",
    "\n",
    "# Emotion labels\n",
    "emotion_labels_audio = [\"Happiness\", \"Neutral\", \"Sadness\", \"Anger\", \"Fear\", \"Disgust\"]\n",
    "emotion_labels_text = [\"Anger\", \"Disgust\", \"Fear\", \"Happiness\", \"Sadness\", \"Surprise\", \"Neutral\"]\n",
    "\n",
    "# Function to extract text from audio\n",
    "def extract_text_from_audio(audio_file):\n",
    "    recognizer = sr.Recognizer()\n",
    "    with sr.AudioFile(audio_file) as source:\n",
    "        audio_data = recognizer.record(source)\n",
    "    text = recognizer.recognize_google(audio_data)\n",
    "    return text\n",
    "\n",
    "# Path to your audio file\n",
    "audio_path = \"./TESS Toronto emotional speech set data/OAF_angry/OAF_burn_angry.wav\"\n",
    "\n",
    "# Get predictions from both models\n",
    "audio_sentiment = audio_classifier.audio_classify(audio_path)\n",
    "text = extract_text_from_audio(audio_path)\n",
    "pred = text_classifier.text_classify(text)\n",
    "\n",
    "# Map indices to emotion labels\n",
    "audio_emotion = emotion_labels_audio[int(audio_sentiment)]\n",
    "text_emotion = emotion_labels_text[int(pred)]\n",
    "\n",
    "# Priority Fusion (Audio has higher priority if different)\n",
    "def priority_fusion(audio_emotion, text_emotion):\n",
    "    # If both models agree, return the same emotion\n",
    "    if audio_emotion == text_emotion:\n",
    "        return audio_emotion\n",
    "    \n",
    "    # If models disagree, prioritize audio model prediction\n",
    "    # Apply majority voting\n",
    "    predictions = [audio_emotion, text_emotion]\n",
    "    counter = Counter(predictions)\n",
    "    \n",
    "    # If the counter finds more than one, we give priority to the audio model\n",
    "    final_emotion, count = counter.most_common(1)[0]\n",
    "    \n",
    "    if final_emotion != audio_emotion:\n",
    "        # Audio has more priority, return the audio's prediction\n",
    "        return audio_emotion\n",
    "    \n",
    "    return final_emotion\n",
    "\n",
    "# Get final prediction using the priority fusion\n",
    "final_emotion = priority_fusion(audio_emotion, text_emotion)\n",
    "\n",
    "# Output the results\n",
    "print(f\"Audio Emotion: {audio_emotion}\")\n",
    "print(f\"Text Emotion: {text_emotion}\")\n",
    "print(f\"Final Predicted Emotion (Priority Fusion): {final_emotion}\")\n"
   ]
  },
  {
   "cell_type": "code",
   "execution_count": null,
   "id": "ec3840a6-3ced-43a4-a480-3550cd56f3a4",
   "metadata": {},
   "outputs": [],
   "source": []
  },
  {
   "cell_type": "code",
   "execution_count": null,
   "id": "81475748-e7fd-426a-b731-f7f3da2cd35a",
   "metadata": {},
   "outputs": [],
   "source": []
  },
  {
   "cell_type": "code",
   "execution_count": 46,
   "id": "44102eed-c348-43fc-92da-125ff6f36651",
   "metadata": {},
   "outputs": [],
   "source": [
    "def priority_fusion_audiotext(audio_emotion, text_emotion):\n",
    "    \n",
    "    if audio_emotion == text_emotion:\n",
    "        return audio_emotion\n",
    "    \n",
    "    \n",
    "    predictions = [audio_emotion, text_emotion]\n",
    "    counter = Counter(predictions)\n",
    "    \n",
    "    \n",
    "    final_emotion, count = counter.most_common(1)[0]\n",
    "    \n",
    "    if final_emotion != audio_emotion:\n",
    "        \n",
    "        return audio_emotion\n",
    "    \n",
    "    return final_emotion\n"
   ]
  },
  {
   "cell_type": "code",
   "execution_count": 42,
   "id": "d38572d0-1c42-47b4-b85f-210bc1713e98",
   "metadata": {},
   "outputs": [
    {
     "name": "stdout",
     "output_type": "stream",
     "text": [
      "\u001b[1m1/1\u001b[0m \u001b[32m━━━━━━━━━━━━━━━━━━━━\u001b[0m\u001b[37m\u001b[0m \u001b[1m0s\u001b[0m 29ms/step\n",
      "\u001b[1m1/1\u001b[0m \u001b[32m━━━━━━━━━━━━━━━━━━━━\u001b[0m\u001b[37m\u001b[0m \u001b[1m1s\u001b[0m 687ms/step\n"
     ]
    }
   ],
   "source": [
    "# Path to your audio file\n",
    "audio_path = \"./AudioWAV/1001_IEO_ANG_HI.wav\"\n",
    "\n",
    "# Get predictions from both models\n",
    "audio_sentiment = audio_classifier.audio_classify(audio_path)\n",
    "text = extract_text_from_audio(audio_path)\n",
    "pred = text_classifier.text_classify(text)\n",
    "\n",
    "# Map indices to emotion labels\n",
    "audio_emotion = emotion_labels_audio[int(audio_sentiment)]\n",
    "text_emotion = emotion_labels_text[int(pred)]"
   ]
  },
  {
   "cell_type": "code",
   "execution_count": 48,
   "id": "de36ab28-99e4-427b-a4fd-ce88eb8611e7",
   "metadata": {},
   "outputs": [
    {
     "name": "stdout",
     "output_type": "stream",
     "text": [
      "Audio Emotion: Fear\n",
      "Text Emotion: Neutral\n",
      "Final Predicted Emotion (Priority Fusion): Fear\n"
     ]
    }
   ],
   "source": [
    "emotion_labels_audio = [\"Happiness\", \"Neutral\", \"Sadness\", \"Anger\", \"Fear\", \"Disgust\"]\n",
    "emotion_labels_text = [\"Anger\", \"Disgust\", \"Fear\", \"Happiness\", \"Sadness\", \"Surprise\", \"Neutral\"]\n",
    "\n",
    "final_emotion = priority_fusion_audiotext(audio_emotion, text_emotion)\n",
    "\n",
    "# Output the results\n",
    "print(f\"Audio Emotion: {audio_emotion}\")\n",
    "print(f\"Text Emotion: {text_emotion}\")\n",
    "print(f\"Final Predicted Emotion (Priority Fusion): {final_emotion}\")\n"
   ]
  },
  {
   "cell_type": "code",
   "execution_count": null,
   "id": "bbfcf2fe-6661-4c0d-bf67-c135f7bede2f",
   "metadata": {},
   "outputs": [],
   "source": []
  }
 ],
 "metadata": {
  "kernelspec": {
   "display_name": "Python 3 (ipykernel)",
   "language": "python",
   "name": "python3"
  },
  "language_info": {
   "codemirror_mode": {
    "name": "ipython",
    "version": 3
   },
   "file_extension": ".py",
   "mimetype": "text/x-python",
   "name": "python",
   "nbconvert_exporter": "python",
   "pygments_lexer": "ipython3",
   "version": "3.12.4"
  }
 },
 "nbformat": 4,
 "nbformat_minor": 5
}
