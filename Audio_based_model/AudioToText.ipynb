{
 "cells": [
  {
   "cell_type": "code",
   "execution_count": 71,
   "id": "62eee090-4bed-41c6-917a-e86713130cc6",
   "metadata": {},
   "outputs": [],
   "source": [
    "import speech_recognition as sr\n",
    "from pydub import AudioSegment\n",
    "import io\n",
    "from Audioandtext import VoteClassifier\n",
    "\n",
    "import pickle"
   ]
  },
  {
   "cell_type": "code",
   "execution_count": 27,
   "id": "9b73acf1-cc6b-498b-8b1d-eb49c92f98e2",
   "metadata": {},
   "outputs": [
    {
     "data": {
      "text/plain": [
       "<_io.BufferedRandom name='converted_audio.wav'>"
      ]
     },
     "execution_count": 27,
     "metadata": {},
     "output_type": "execute_result"
    }
   ],
   "source": [
    "audio_file_path = \"./ALL/DC_a02.wav\"  # Change to your audio file's path\n",
    "sound = AudioSegment.from_file(audio_file_path)\n",
    "sound.export(\"converted_audio.wav\", format=\"wav\")"
   ]
  },
  {
   "cell_type": "code",
   "execution_count": 29,
   "id": "50c1b9dc-8272-4472-a303-7872505b642f",
   "metadata": {},
   "outputs": [],
   "source": [
    "recognizer = sr.Recognizer()"
   ]
  },
  {
   "cell_type": "code",
   "execution_count": 47,
   "id": "b388c0ae-ae84-4958-a654-7c3b732a1573",
   "metadata": {},
   "outputs": [],
   "source": [
    "with sr.AudioFile(\"converted_audio.wav\") as source:\n",
    "    audio_data = recognizer.record(source)\n"
   ]
  },
  {
   "cell_type": "code",
   "execution_count": 49,
   "id": "d93b345a-0816-4499-b517-7c9dfa873b5c",
   "metadata": {},
   "outputs": [
    {
     "name": "stdout",
     "output_type": "stream",
     "text": [
      "Transcription: don't ask me to carry an oily right like that\n"
     ]
    }
   ],
   "source": [
    "try:\n",
    "    text = recognizer.recognize_google(audio_data)\n",
    "    print(\"Transcription:\", text)\n",
    "except sr.UnknownValueError:\n",
    "    print(\"Sorry, the audio was not clear.\")\n",
    "except sr.RequestError:\n",
    "    print(\"Could not request results; check your internet connection.\")"
   ]
  },
  {
   "cell_type": "code",
   "execution_count": null,
   "id": "99ce20b7-cea0-44d1-9fc7-ed5f56823118",
   "metadata": {},
   "outputs": [],
   "source": []
  },
  {
   "cell_type": "code",
   "execution_count": 35,
   "id": "cdf61d24-788e-45c2-9d1f-b7837973ad99",
   "metadata": {},
   "outputs": [],
   "source": [
    "audio_file_path = \"./ALL/DC_a10.wav\"  # Change to your audio file's path\n",
    "sound = AudioSegment.from_file(audio_file_path)\n"
   ]
  },
  {
   "cell_type": "code",
   "execution_count": 37,
   "id": "bf743bbd-4cb7-417c-a65e-0d0eedf4b9ef",
   "metadata": {},
   "outputs": [
    {
     "data": {
      "text/plain": [
       "0"
      ]
     },
     "execution_count": 37,
     "metadata": {},
     "output_type": "execute_result"
    }
   ],
   "source": [
    "audio_buffer = io.BytesIO()\n",
    "sound.export(audio_buffer, format=\"wav\")\n",
    "audio_buffer.seek(0)  # Ensure the buffer is at the start\n"
   ]
  },
  {
   "cell_type": "code",
   "execution_count": 39,
   "id": "1ef5275f-1577-495a-ab03-146b90a49cb4",
   "metadata": {},
   "outputs": [],
   "source": [
    "recognizer = sr.Recognizer()\n"
   ]
  },
  {
   "cell_type": "code",
   "execution_count": 41,
   "id": "e5642246-3158-4b42-bf19-33f5a450df82",
   "metadata": {},
   "outputs": [],
   "source": [
    "with sr.AudioFile(audio_buffer) as source:\n",
    "    audio_data = recognizer.record(source)\n"
   ]
  },
  {
   "cell_type": "code",
   "execution_count": 43,
   "id": "d5890ae7-b169-4758-9029-8882de07b6ce",
   "metadata": {},
   "outputs": [
    {
     "name": "stdout",
     "output_type": "stream",
     "text": [
      "Transcription: kindergarten children decorate the classrooms or holidays\n"
     ]
    }
   ],
   "source": [
    "transcribed_text = \"\"\n",
    "try:\n",
    "    transcribed_text = recognizer.recognize_google(audio_data)\n",
    "    print(\"Transcription:\", transcribed_text)\n",
    "except sr.UnknownValueError:\n",
    "    print(\"Sorry, the audio was not clear.\")\n",
    "except sr.RequestError:\n",
    "    print(\"Could not request results; check your internet connection.\")\n",
    "\n",
    "audio_buffer.close()\n"
   ]
  },
  {
   "cell_type": "code",
   "execution_count": 45,
   "id": "a39bca87-a988-4bfd-99a3-09800547ade6",
   "metadata": {},
   "outputs": [],
   "source": []
  },
  {
   "cell_type": "code",
   "execution_count": 53,
   "id": "f62a5ddd-5891-4891-96b6-7660d724680e",
   "metadata": {},
   "outputs": [
    {
     "name": "stdout",
     "output_type": "stream",
     "text": [
      "Transcription: say the word\n"
     ]
    }
   ],
   "source": [
    "import speech_recognition as sr\n",
    "from pydub import AudioSegment\n",
    "import io\n",
    "\n",
    "\n",
    "audio_file_path = \"./TESS Toronto emotional speech set data/OAF_Fear/OAF_bone_fear.wav\"\n",
    "sound = AudioSegment.from_file(audio_file_path)\n",
    "\n",
    "\n",
    "audio_buffer = io.BytesIO()\n",
    "sound.export(audio_buffer, format=\"wav\")\n",
    "audio_buffer.seek(0) \n",
    "\n",
    "\n",
    "recognizer = sr.Recognizer()\n",
    "\n",
    "\n",
    "with sr.AudioFile(audio_buffer) as source:\n",
    "    audio_data = recognizer.record(source)\n",
    "\n",
    "\n",
    "transcribed_text = \"\"\n",
    "try:\n",
    "    transcribed_text = recognizer.recognize_google(audio_data)\n",
    "    print(\"Transcription:\", transcribed_text)\n",
    "except sr.UnknownValueError:\n",
    "    print(\"Sorry, the audio was not clear.\")\n",
    "except sr.RequestError:\n",
    "    print(\"Could not request results; check your internet connection.\")\n",
    "\n",
    "\n",
    "audio_buffer.close()"
   ]
  },
  {
   "cell_type": "code",
   "execution_count": null,
   "id": "d8a4fb6c-1e5f-4377-8afd-263273a57e9b",
   "metadata": {},
   "outputs": [],
   "source": []
  },
  {
   "cell_type": "code",
   "execution_count": null,
   "id": "8473cc86-fd34-4e88-a0eb-822843b1b815",
   "metadata": {},
   "outputs": [],
   "source": []
  },
  {
   "cell_type": "code",
   "execution_count": 55,
   "id": "98cadb89-a9c5-4241-89f1-0c625d8ee97e",
   "metadata": {},
   "outputs": [
    {
     "name": "stdout",
     "output_type": "stream",
     "text": [
      "Transcription: kids are talking by the door\n"
     ]
    }
   ],
   "source": [
    "import speech_recognition as sr\n",
    "from pydub import AudioSegment\n",
    "import io\n",
    "\n",
    "\n",
    "audio_file_path = \"./audio_speech_actors_01-24/Actor_06/03-01-02-01-01-01-06.wav\"\n",
    "sound = AudioSegment.from_file(audio_file_path)\n",
    "\n",
    "\n",
    "audio_buffer = io.BytesIO()\n",
    "sound.export(audio_buffer, format=\"wav\")\n",
    "audio_buffer.seek(0) \n",
    "\n",
    "\n",
    "recognizer = sr.Recognizer()\n",
    "\n",
    "\n",
    "with sr.AudioFile(audio_buffer) as source:\n",
    "    audio_data = recognizer.record(source)\n",
    "\n",
    "\n",
    "transcribed_text = \"\"\n",
    "try:\n",
    "    transcribed_text = recognizer.recognize_google(audio_data)\n",
    "    print(\"Transcription:\", transcribed_text)\n",
    "except sr.UnknownValueError:\n",
    "    print(\"Sorry, the audio was not clear.\")\n",
    "except sr.RequestError:\n",
    "    print(\"Could not request results; check your internet connection.\")\n",
    "\n",
    "\n",
    "audio_buffer.close()"
   ]
  },
  {
   "cell_type": "code",
   "execution_count": null,
   "id": "e45bfe8e-ec5d-46be-94ab-6696890d2fdb",
   "metadata": {},
   "outputs": [],
   "source": []
  },
  {
   "cell_type": "code",
   "execution_count": 57,
   "id": "debf4cc3-681d-414f-86ef-f9474ba6ba27",
   "metadata": {},
   "outputs": [],
   "source": [
    "def extract_text_from_audio(audio_file):\n",
    "    recognizer = sr.Recognizer()\n",
    "    with sr.AudioFile(audio_file) as source:\n",
    "        audio_data = recognizer.record(source)\n",
    "    text = recognizer.recognize_google(audio_data)\n",
    "    return text\n"
   ]
  },
  {
   "cell_type": "code",
   "execution_count": 59,
   "id": "6f66763d-8d84-42ce-b914-dec53a60c6db",
   "metadata": {},
   "outputs": [],
   "source": [
    "text = extract_text_from_audio('./audio_speech_actors_01-24/Actor_06/03-01-02-01-01-01-06.wav')"
   ]
  },
  {
   "cell_type": "code",
   "execution_count": 61,
   "id": "97758f23-df45-4cef-a5ee-d60996b3766c",
   "metadata": {},
   "outputs": [
    {
     "data": {
      "text/plain": [
       "'kids are talking by the door'"
      ]
     },
     "execution_count": 61,
     "metadata": {},
     "output_type": "execute_result"
    }
   ],
   "source": [
    "text"
   ]
  },
  {
   "cell_type": "code",
   "execution_count": null,
   "id": "b21b045b-1e86-41c2-a9a3-16c36ece2b28",
   "metadata": {},
   "outputs": [],
   "source": []
  },
  {
   "cell_type": "code",
   "execution_count": 67,
   "id": "3a0a454c-ef0c-44b8-b7e3-f9af67c89a7a",
   "metadata": {},
   "outputs": [],
   "source": [
    "emotion_labels_text = [\"Anger\", \"Disgust\", \"Fear\", \"Happiness\", \"Sadness\", \"Surprise\", \"Neutral\"]"
   ]
  },
  {
   "cell_type": "code",
   "execution_count": 72,
   "id": "e6399176-d755-4ea7-ac9e-039f07f917da",
   "metadata": {},
   "outputs": [
    {
     "name": "stderr",
     "output_type": "stream",
     "text": [
      "C:\\Users\\ssttg\\anaconda3\\Lib\\site-packages\\keras\\src\\saving\\saving_lib.py:719: UserWarning: Skipping variable loading for optimizer 'adam', because it has 24 variables whereas the saved optimizer has 2 variables. \n",
      "  saveable.load_own_variables(weights_store.get(inner_path))\n"
     ]
    }
   ],
   "source": [
    "with open('text_classifier_model.pkl', 'rb') as f:\n",
    "    text_classifier = pickle.load(f)\n"
   ]
  },
  {
   "cell_type": "code",
   "execution_count": 75,
   "id": "22592628-9f7b-4fc2-96b1-8aed89d675d5",
   "metadata": {},
   "outputs": [
    {
     "name": "stdout",
     "output_type": "stream",
     "text": [
      "\u001b[1m1/1\u001b[0m \u001b[32m━━━━━━━━━━━━━━━━━━━━\u001b[0m\u001b[37m\u001b[0m \u001b[1m1s\u001b[0m 977ms/step\n"
     ]
    }
   ],
   "source": [
    "pred = text_classifier.text_classify(text)"
   ]
  },
  {
   "cell_type": "code",
   "execution_count": 77,
   "id": "0fa6cb5a-b215-49bc-bb03-d6976bd77ecb",
   "metadata": {},
   "outputs": [
    {
     "data": {
      "text/plain": [
       "'6'"
      ]
     },
     "execution_count": 77,
     "metadata": {},
     "output_type": "execute_result"
    }
   ],
   "source": [
    "pred"
   ]
  },
  {
   "cell_type": "code",
   "execution_count": 1,
   "id": "5572678b-6871-40fc-89b7-ec1c11b0e605",
   "metadata": {},
   "outputs": [],
   "source": [
    "import pandas as pd"
   ]
  },
  {
   "cell_type": "code",
   "execution_count": null,
   "id": "b0168f6d-a8b3-45a5-80ef-f0795bc886b2",
   "metadata": {},
   "outputs": [],
   "source": [
    "df = pd.read_csv()"
   ]
  }
 ],
 "metadata": {
  "kernelspec": {
   "display_name": "Python 3 (ipykernel)",
   "language": "python",
   "name": "python3"
  },
  "language_info": {
   "codemirror_mode": {
    "name": "ipython",
    "version": 3
   },
   "file_extension": ".py",
   "mimetype": "text/x-python",
   "name": "python",
   "nbconvert_exporter": "python",
   "pygments_lexer": "ipython3",
   "version": "3.12.4"
  }
 },
 "nbformat": 4,
 "nbformat_minor": 5
}
