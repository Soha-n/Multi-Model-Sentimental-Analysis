{
 "cells": [
  {
   "cell_type": "code",
   "execution_count": 9,
   "id": "20ca9015-1343-41a2-be4f-ef7985c07b63",
   "metadata": {},
   "outputs": [],
   "source": [
    "import pickle\n",
    "from vote_classifier import VoteClassifier"
   ]
  },
  {
   "cell_type": "code",
   "execution_count": null,
   "id": "4e0f9abc-fd24-4630-a3d2-63e30845ff41",
   "metadata": {},
   "outputs": [],
   "source": []
  },
  {
   "cell_type": "code",
   "execution_count": 12,
   "id": "73e86a9d-9b38-4ae1-bf69-192f0f60a0ce",
   "metadata": {},
   "outputs": [
    {
     "ename": "AttributeError",
     "evalue": "'VoteClassifier' object has no attribute 'text_classify'",
     "output_type": "error",
     "traceback": [
      "\u001b[1;31m---------------------------------------------------------------------------\u001b[0m",
      "\u001b[1;31mAttributeError\u001b[0m                            Traceback (most recent call last)",
      "Cell \u001b[1;32mIn[12], line 11\u001b[0m\n\u001b[0;32m      9\u001b[0m \u001b[38;5;66;03m# Use the classifier to predict the emotion of a sentence\u001b[39;00m\n\u001b[0;32m     10\u001b[0m sentence \u001b[38;5;241m=\u001b[39m \u001b[38;5;124m\"\u001b[39m\u001b[38;5;124mI am feeling really happy today!\u001b[39m\u001b[38;5;124m\"\u001b[39m\n\u001b[1;32m---> 11\u001b[0m predicted_emotion \u001b[38;5;241m=\u001b[39m loaded_classifier\u001b[38;5;241m.\u001b[39mtext_classify(sentence)\n\u001b[0;32m     12\u001b[0m confidence \u001b[38;5;241m=\u001b[39m loaded_classifier\u001b[38;5;241m.\u001b[39mtext_confidence(sentence)\n\u001b[0;32m     14\u001b[0m emotion_labels \u001b[38;5;241m=\u001b[39m [\u001b[38;5;124m\"\u001b[39m\u001b[38;5;124mAnger\u001b[39m\u001b[38;5;124m\"\u001b[39m, \u001b[38;5;124m\"\u001b[39m\u001b[38;5;124mDisgust\u001b[39m\u001b[38;5;124m\"\u001b[39m, \u001b[38;5;124m\"\u001b[39m\u001b[38;5;124mFear\u001b[39m\u001b[38;5;124m\"\u001b[39m, \u001b[38;5;124m\"\u001b[39m\u001b[38;5;124mHappiness\u001b[39m\u001b[38;5;124m\"\u001b[39m, \u001b[38;5;124m\"\u001b[39m\u001b[38;5;124mSadness\u001b[39m\u001b[38;5;124m\"\u001b[39m, \u001b[38;5;124m\"\u001b[39m\u001b[38;5;124mSurprise\u001b[39m\u001b[38;5;124m\"\u001b[39m, \u001b[38;5;124m\"\u001b[39m\u001b[38;5;124mNeutral\u001b[39m\u001b[38;5;124m\"\u001b[39m]\n",
      "\u001b[1;31mAttributeError\u001b[0m: 'VoteClassifier' object has no attribute 'text_classify'"
     ]
    }
   ],
   "source": [
    "import pickle\n",
    "from keras.models import load_model\n",
    "import numpy as np\n",
    "\n",
    "# Load the saved VoteClassifier model (including vectorizer and classifiers)\n",
    "with open('full_voting_classifier_model.pkl', 'rb') as file:\n",
    "    loaded_classifier = pickle.load(file)\n",
    "\n",
    "# Use the classifier to predict the emotion of a sentence\n",
    "sentence = \"I am feeling really happy today!\"\n",
    "predicted_emotion = loaded_classifier.text_classify(sentence)\n",
    "confidence = loaded_classifier.text_confidence(sentence)\n",
    "\n",
    "emotion_labels = [\"Anger\", \"Disgust\", \"Fear\", \"Happiness\", \"Sadness\", \"Surprise\", \"Neutral\"]\n",
    "\n",
    "# Convert the predicted emotion index from string to integer\n",
    "predicted_index = int(predicted_emotion)\n",
    "\n",
    "# Access the corresponding emotion label using the index\n",
    "if 0 <= predicted_index < len(emotion_labels):\n",
    "    corresponding_emotion = emotion_labels[predicted_index]\n",
    "    print(f\"Predicted emotion (index {predicted_index}): {corresponding_emotion}\")\n",
    "else:\n",
    "    print(f\"Index {predicted_index} is out of range for emotion_labels.\")\n",
    "\n",
    "print(f\"Confidence: {confidence:.2f}\")\n"
   ]
  },
  {
   "cell_type": "code",
   "execution_count": null,
   "id": "719c0c36-c3cd-4ab5-a60e-ef28d6f2aee9",
   "metadata": {},
   "outputs": [],
   "source": []
  },
  {
   "cell_type": "code",
   "execution_count": null,
   "id": "f1db7c7c-b91e-4891-bfc4-a9752163c7cb",
   "metadata": {},
   "outputs": [],
   "source": []
  },
  {
   "cell_type": "code",
   "execution_count": null,
   "id": "58637f4d-6ea7-4e86-bf81-36c0fa824f41",
   "metadata": {},
   "outputs": [],
   "source": []
  },
  {
   "cell_type": "code",
   "execution_count": null,
   "id": "fb434cf2-23c2-4a60-810a-49bfc956b50a",
   "metadata": {},
   "outputs": [],
   "source": []
  },
  {
   "cell_type": "code",
   "execution_count": null,
   "id": "c4f7ffe4-b7b2-4c16-956b-5d75858b01ed",
   "metadata": {},
   "outputs": [],
   "source": []
  },
  {
   "cell_type": "code",
   "execution_count": 13,
   "id": "eb3ed5fe-74f8-45f5-8a1b-d33d3d39228f",
   "metadata": {},
   "outputs": [],
   "source": [
    "import pickle\n",
    "from vote_classifier import VoteClassifier\n",
    "from sklearn.feature_extraction.text import TfidfVectorizer\n",
    "\n",
    "# Example classifiers (replace with your actual classifiers)\n",
    "classifiers = []  # Load your actual classifiers here\n",
    "\n",
    "# Load the vectorizer (replace with your actual vectorizer)\n",
    "with open('tfidf_vectorizer.pkl', 'rb') as f:\n",
    "    vectorizer = pickle.load(f)\n",
    "\n",
    "# Create the VoteClassifier, passing the vectorizer to it\n",
    "voting_classifier = VoteClassifier(vectorizer, *classifiers)\n",
    "\n",
    "# Save the entire classifier (including the vectorizer) into a single file\n",
    "with open('voting_classifier_model.pkl', 'wb') as file:\n",
    "    pickle.dump(voting_classifier, file)\n"
   ]
  },
  {
   "cell_type": "code",
   "execution_count": 17,
   "id": "99571989-2387-4653-9b74-8739bcb39c88",
   "metadata": {},
   "outputs": [
    {
     "name": "stderr",
     "output_type": "stream",
     "text": [
      "C:\\Users\\ssttg\\anaconda3\\Lib\\site-packages\\keras\\src\\saving\\saving_lib.py:719: UserWarning: Skipping variable loading for optimizer 'adam', because it has 24 variables whereas the saved optimizer has 2 variables. \n",
      "  saveable.load_own_variables(weights_store.get(inner_path))\n"
     ]
    },
    {
     "ename": "AttributeError",
     "evalue": "'VoteClassifier' object has no attribute 'vectorizer'",
     "output_type": "error",
     "traceback": [
      "\u001b[1;31m---------------------------------------------------------------------------\u001b[0m",
      "\u001b[1;31mAttributeError\u001b[0m                            Traceback (most recent call last)",
      "Cell \u001b[1;32mIn[17], line 15\u001b[0m\n\u001b[0;32m     13\u001b[0m \u001b[38;5;66;03m# Use the classifier to predict the emotion of a sentence\u001b[39;00m\n\u001b[0;32m     14\u001b[0m sentence \u001b[38;5;241m=\u001b[39m \u001b[38;5;124m\"\u001b[39m\u001b[38;5;124mI am feeling really happy today!\u001b[39m\u001b[38;5;124m\"\u001b[39m\n\u001b[1;32m---> 15\u001b[0m predicted_emotion \u001b[38;5;241m=\u001b[39m loaded_classifier\u001b[38;5;241m.\u001b[39mclassify(sentence)\n\u001b[0;32m     16\u001b[0m confidence \u001b[38;5;241m=\u001b[39m loaded_classifier\u001b[38;5;241m.\u001b[39mconfidence(sentence)\n\u001b[0;32m     18\u001b[0m emotion_labels \u001b[38;5;241m=\u001b[39m [\u001b[38;5;124m\"\u001b[39m\u001b[38;5;124mAnger\u001b[39m\u001b[38;5;124m\"\u001b[39m, \u001b[38;5;124m\"\u001b[39m\u001b[38;5;124mDisgust\u001b[39m\u001b[38;5;124m\"\u001b[39m, \u001b[38;5;124m\"\u001b[39m\u001b[38;5;124mFear\u001b[39m\u001b[38;5;124m\"\u001b[39m, \u001b[38;5;124m\"\u001b[39m\u001b[38;5;124mHappiness\u001b[39m\u001b[38;5;124m\"\u001b[39m, \u001b[38;5;124m\"\u001b[39m\u001b[38;5;124mSadness\u001b[39m\u001b[38;5;124m\"\u001b[39m, \u001b[38;5;124m\"\u001b[39m\u001b[38;5;124mSurprise\u001b[39m\u001b[38;5;124m\"\u001b[39m, \u001b[38;5;124m\"\u001b[39m\u001b[38;5;124mNeutral\u001b[39m\u001b[38;5;124m\"\u001b[39m]\n",
      "File \u001b[1;32m~\\MINI-Project\\Text-based-Multimodel\\Modal_combine\\vote_classifier.py:17\u001b[0m, in \u001b[0;36mVoteClassifier.classify\u001b[1;34m(self, sentence)\u001b[0m\n\u001b[0;32m     15\u001b[0m \u001b[38;5;28;01mdef\u001b[39;00m \u001b[38;5;21mclassify\u001b[39m(\u001b[38;5;28mself\u001b[39m, sentence):\n\u001b[0;32m     16\u001b[0m     votes \u001b[38;5;241m=\u001b[39m []\n\u001b[1;32m---> 17\u001b[0m     features_tfidf \u001b[38;5;241m=\u001b[39m \u001b[38;5;28mself\u001b[39m\u001b[38;5;241m.\u001b[39mvectorizer\u001b[38;5;241m.\u001b[39mtransform([sentence])\n\u001b[0;32m     18\u001b[0m     processed_features \u001b[38;5;241m=\u001b[39m \u001b[38;5;28mself\u001b[39m\u001b[38;5;241m.\u001b[39mpreprocess_nltk(sentence)\n\u001b[0;32m     20\u001b[0m     \u001b[38;5;28;01mfor\u001b[39;00m clf \u001b[38;5;129;01min\u001b[39;00m \u001b[38;5;28mself\u001b[39m\u001b[38;5;241m.\u001b[39m_classifiers:\n",
      "\u001b[1;31mAttributeError\u001b[0m: 'VoteClassifier' object has no attribute 'vectorizer'"
     ]
    }
   ],
   "source": [
    "import pickle\n",
    "from vote_classifier import VoteClassifier\n",
    "import numpy as np\n",
    "\n",
    "# Load the saved voting classifier model\n",
    "with open('voting_classifier.pkl', 'rb') as file:\n",
    "    loaded_classifier = pickle.load(file)\n",
    "\n",
    "# Load the TF-IDF vectorizer\n",
    "with open('tfidf_vectorizer.pkl', 'rb') as file:\n",
    "    vectorizer = pickle.load(file)\n",
    "\n",
    "# Use the classifier to predict the emotion of a sentence\n",
    "sentence = \"I am feeling really happy today!\"\n",
    "predicted_emotion = loaded_classifier.classify(sentence)\n",
    "confidence = loaded_classifier.confidence(sentence)\n",
    "\n",
    "emotion_labels = [\"Anger\", \"Disgust\", \"Fear\", \"Happiness\", \"Sadness\", \"Surprise\", \"Neutral\"]\n",
    "\n",
    "# Convert the predicted emotion index from string to integer\n",
    "predicted_index = int(predicted_emotion)\n",
    "\n",
    "# Access the corresponding emotion label using the index\n",
    "if 0 <= predicted_index < len(emotion_labels):\n",
    "    corresponding_emotion = emotion_labels[predicted_index]\n",
    "    print(f\"Predicted emotion (index {predicted_index}): {corresponding_emotion}\")\n",
    "else:\n",
    "    print(f\"Index {predicted_index} is out of range for emotion_labels.\")\n",
    "\n",
    "print(f\"Confidence: {confidence:.2f}\")\n"
   ]
  },
  {
   "cell_type": "code",
   "execution_count": null,
   "id": "812136b8-0b41-40a7-971a-f1f92bb16e69",
   "metadata": {},
   "outputs": [],
   "source": []
  }
 ],
 "metadata": {
  "kernelspec": {
   "display_name": "Python 3 (ipykernel)",
   "language": "python",
   "name": "python3"
  },
  "language_info": {
   "codemirror_mode": {
    "name": "ipython",
    "version": 3
   },
   "file_extension": ".py",
   "mimetype": "text/x-python",
   "name": "python",
   "nbconvert_exporter": "python",
   "pygments_lexer": "ipython3",
   "version": "3.12.4"
  }
 },
 "nbformat": 4,
 "nbformat_minor": 5
}
